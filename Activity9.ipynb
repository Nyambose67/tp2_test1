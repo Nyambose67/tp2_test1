{
 "cells": [
  {
   "cell_type": "code",
   "execution_count": 3,
   "id": "991a77d7-85bc-4411-884d-f29f23a94a22",
   "metadata": {},
   "outputs": [
    {
     "name": "stdout",
     "output_type": "stream",
     "text": [
      "Bubble Sort result: [3, 7, 10, 11, 13, 26, 43]\n"
     ]
    }
   ],
   "source": [
    "#BUBBLE SORT\n",
    "\n",
    "def bubble_sort(arr):\n",
    "    n = len(arr)\n",
    "    for i in range(n):\n",
    "        swapped = False\n",
    "        for j in range(0, n-i-1):\n",
    "            if arr[j] > arr[j+1]:\n",
    "                arr[j], arr[j+1] = arr[j+1], arr[j]\n",
    "                swapped = True\n",
    "        if not swapped:\n",
    "            break\n",
    "    return arr\n",
    "\n",
    "# List to be sorted\n",
    "nums = [10, 7, 26, 43, 3, 13, 11]\n",
    "\n",
    "sorted_nums_bubble = bubble_sort(nums.copy())\n",
    "print(\"Bubble Sort result:\", sorted_nums_bubble)"
   ]
  },
  {
   "cell_type": "code",
   "execution_count": 4,
   "id": "c67ba8d6-543a-4723-a116-5f730f8beef6",
   "metadata": {},
   "outputs": [
    {
     "name": "stdout",
     "output_type": "stream",
     "text": [
      "Insertion Sort result: [3, 7, 10, 11, 13, 26, 43]\n"
     ]
    }
   ],
   "source": [
    "# Insertion Sort\n",
    "\n",
    "\n",
    "def insertion_sort(arr):\n",
    "    for i in range(1, len(arr)):\n",
    "        key = arr[i]\n",
    "        j = i - 1\n",
    "        while j >= 0 and key < arr[j]:\n",
    "            arr[j + 1] = arr[j]\n",
    "            j -= 1\n",
    "        arr[j + 1] = key\n",
    "    return arr\n",
    "\n",
    "sorted_nums_insertion = insertion_sort(nums.copy())\n",
    "print(\"Insertion Sort result:\", sorted_nums_insertion)"
   ]
  },
  {
   "cell_type": "code",
   "execution_count": 5,
   "id": "53a26446-6ce8-40d4-93a4-8458d65acbeb",
   "metadata": {},
   "outputs": [
    {
     "name": "stdout",
     "output_type": "stream",
     "text": [
      "Iteration 1: [11, 10, 26, 7, 3, 13, 43]\n",
      "Iteration 2: [11, 10, 13, 7, 3, 26, 43]\n",
      "Iteration 3: [3, 10, 11, 7, 13, 26, 43]\n",
      "Iteration 4: [7, 10, 3, 11, 13, 26, 43]\n",
      "Iteration 5: [3, 7, 10, 11, 13, 26, 43]\n",
      "Iteration 6: [3, 7, 10, 11, 13, 26, 43]\n",
      "Heap Sort result: [3, 7, 10, 11, 13, 26, 43]\n"
     ]
    }
   ],
   "source": [
    "# Heap Sort\n",
    "\n",
    "\n",
    "def heapify(arr, n, i):\n",
    "    largest = i\n",
    "    left = 2 * i + 1\n",
    "    right = 2 * i + 2\n",
    "\n",
    "    if left < n and arr[i] < arr[left]:\n",
    "        largest = left\n",
    "\n",
    "    if right < n and arr[largest] < arr[right]:\n",
    "        largest = right\n",
    "\n",
    "    if largest != i:\n",
    "        arr[i], arr[largest] = arr[largest], arr[i]\n",
    "        heapify(arr, n, largest)\n",
    "\n",
    "def heap_sort(arr):\n",
    "    n = len(arr)\n",
    "    \n",
    "    # Build a maxheap\n",
    "    for i in range(n//2 - 1, -1, -1):\n",
    "        heapify(arr, n, i)\n",
    "\n",
    "    # Extract elements one by one\n",
    "    for i in range(n-1, 0, -1):\n",
    "        arr[i], arr[0] = arr[0], arr[i]\n",
    "        print(f\"Iteration {n-i}: {arr}\")\n",
    "        heapify(arr, i, 0)\n",
    "    return arr\n",
    "\n",
    "sorted_nums_heap = heap_sort(nums.copy())\n",
    "print(\"Heap Sort result:\", sorted_nums_heap)"
   ]
  },
  {
   "cell_type": "code",
   "execution_count": 6,
   "id": "eb937268-265b-44f4-b8c2-f0254cab377c",
   "metadata": {},
   "outputs": [
    {
     "name": "stdout",
     "output_type": "stream",
     "text": [
      "Element 13 is at index 4 in the sorted list [3, 7, 10, 11, 13, 26, 43]\n"
     ]
    }
   ],
   "source": [
    "# Binary Search\n",
    "\n",
    "def binary_search(arr, x):\n",
    "    left, right = 0, len(arr) - 1\n",
    "    while left <= right:\n",
    "        mid = (left + right) // 2\n",
    "        if arr[mid] == x:\n",
    "            return mid\n",
    "        elif arr[mid] < x:\n",
    "            left = mid + 1\n",
    "        else:\n",
    "            right = mid - 1\n",
    "    return -1\n",
    "\n",
    "# List to search in\n",
    "sorted_nums = sorted(nums)  # Make sure the list is sorted\n",
    "element_to_search = 13\n",
    "\n",
    "# Search using Binary Search\n",
    "index = binary_search(sorted_nums, element_to_search)\n",
    "print(f\"Element {element_to_search} is at index {index} in the sorted list {sorted_nums}\")"
   ]
  },
  {
   "cell_type": "code",
   "execution_count": null,
   "id": "b0320ff9-c42e-45b4-b256-c80f79e833cd",
   "metadata": {},
   "outputs": [],
   "source": []
  }
 ],
 "metadata": {
  "kernelspec": {
   "display_name": "Python 3 (ipykernel)",
   "language": "python",
   "name": "python3"
  },
  "language_info": {
   "codemirror_mode": {
    "name": "ipython",
    "version": 3
   },
   "file_extension": ".py",
   "mimetype": "text/x-python",
   "name": "python",
   "nbconvert_exporter": "python",
   "pygments_lexer": "ipython3",
   "version": "3.11.9"
  }
 },
 "nbformat": 4,
 "nbformat_minor": 5
}
