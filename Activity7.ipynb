{
 "cells": [
  {
   "cell_type": "code",
   "execution_count": null,
   "id": "85736b49-9742-48a2-bfe3-3efb84c6245b",
   "metadata": {},
   "outputs": [],
   "source": [
    "import seaborn as sns\n",
    "import pandas as pd\n",
    "import matplotlib.pyplot as plt"
   ]
  },
  {
   "cell_type": "code",
   "execution_count": null,
   "id": "ff0ab813-21e4-4d88-a92a-f58ea8ade971",
   "metadata": {},
   "outputs": [],
   "source": [
    "#Loading the csv dataset\n",
    "df = pd.read_csv('C:\\\\Users\\\\user\\\\Desktop\\\\Test2 Prep\\\\dataset - 2020-09-24.csv')"
   ]
  },
  {
   "cell_type": "markdown",
   "id": "81167862-5d88-4220-ad4d-e9e39cc9e655",
   "metadata": {},
   "source": [
    "APPLYING THEME"
   ]
  },
  {
   "cell_type": "code",
   "execution_count": null,
   "id": "e36d083b-f869-45ac-9b15-82c7321a7390",
   "metadata": {},
   "outputs": [],
   "source": [
    "sns.set_theme()\n",
    "sns.set_style(\"darkgrid\")"
   ]
  },
  {
   "cell_type": "code",
   "execution_count": null,
   "id": "051e8aa5-caec-405c-b3a6-381e161ddf0d",
   "metadata": {},
   "outputs": [],
   "source": [
    "sns.lineplot(x = \"Headed goals\", y =\"Goals per match\", data=df, color=\"black\")\n",
    "plt.show()"
   ]
  },
  {
   "cell_type": "code",
   "execution_count": null,
   "id": "fbdcbd88-74fa-46ab-94ee-d4f86491c9f9",
   "metadata": {},
   "outputs": [],
   "source": [
    "sns.set_style(\"whitegrid\")\n",
    "sns.lineplot(x= \"Shots on target\", y= \"Shots\", data=df, color=\"black\")\n",
    "plt.show()"
   ]
  },
  {
   "cell_type": "code",
   "execution_count": null,
   "id": "28551fd8-f527-43bd-824e-159f9ee4b3c8",
   "metadata": {},
   "outputs": [],
   "source": [
    "#Scaling plots for different context\\\n",
    "\n",
    "sns.set_context(\"talk\")\n",
    "sns.set_style(\"darkgrid\")\n",
    "sns.lineplot(x = \"Hit woodwork\", y= \"Shots\", data=df, color=\"blue\")\n",
    "plt.show()"
   ]
  },
  {
   "cell_type": "code",
   "execution_count": null,
   "id": "e36e57c7-766a-451c-be09-0211e2787ec4",
   "metadata": {},
   "outputs": [],
   "source": [
    "sns.set_context(\"talk\")\n",
    "sns.set_style(\"darkgrid\")\n",
    "sns.lineplot(x=\"Yellow cards\", y=\"Fouls\", data=df, color=\"black\")\n",
    "plt.show()"
   ]
  },
  {
   "cell_type": "code",
   "execution_count": null,
   "id": "89c6e7a5-ffd0-4a54-947d-3e1ecfd08c4a",
   "metadata": {},
   "outputs": [],
   "source": [
    "#Advanced plotting\n",
    "sns.set_style(\"darkgrid\")\n",
    "sns.distplot(df[\"Assists\"], color=\"blue\")"
   ]
  },
  {
   "cell_type": "code",
   "execution_count": null,
   "id": "628fa404-91dc-4295-aacb-af22ad3f7c58",
   "metadata": {},
   "outputs": [],
   "source": [
    "sns.set_style(\"darkgrid\")\n",
    "sns.distplot(df[\"Passes per match\"], color= \"blue\")"
   ]
  },
  {
   "cell_type": "code",
   "execution_count": null,
   "id": "653cc6c7-2b4a-4391-9a59-31342f9be8c2",
   "metadata": {},
   "outputs": [],
   "source": [
    "#KDE PLOT\n",
    "sns.set_style(\"darkgrid\")\n",
    "sns.kdeplot(data=df[\"Goals conceded\"], color=\"black\")"
   ]
  },
  {
   "cell_type": "code",
   "execution_count": null,
   "id": "fa085a49-ad11-4a67-b386-c2b9a93c042d",
   "metadata": {},
   "outputs": [],
   "source": [
    "#KDE PLOT CONTINUES\n",
    "sns.set_style(\"darkgrid\")\n",
    "sns.kdeplot(data=df[\"Freekicks scored\"], color=\"black\")"
   ]
  },
  {
   "cell_type": "code",
   "execution_count": null,
   "id": "4d618df7-27c7-4ea5-8ccd-fa06f50bbd35",
   "metadata": {},
   "outputs": [],
   "source": [
    "#rugplot first graph\n",
    "\n",
    "sns.set_style(\"darkgrid\")\n",
    "sns.rugplot(df[\"Tackles\"], color=\"black\")"
   ]
  },
  {
   "cell_type": "code",
   "execution_count": null,
   "id": "bd6800ee-c020-4b6f-b00f-5c4dd53813f9",
   "metadata": {},
   "outputs": [],
   "source": [
    "#RUGPLOT CONTINUES\n",
    "sns.set_style(\"darkgrid\")\n",
    "sns.rugplot(df[\"Big chances missed\"], color=\"black\")"
   ]
  },
  {
   "cell_type": "code",
   "execution_count": null,
   "id": "15a1d400-e1c7-491c-8f0f-0217d2c611ca",
   "metadata": {},
   "outputs": [],
   "source": [
    "#BOXPLOT BEGINS\n",
    "\n",
    "sns.boxplot(x=\"Position\", y=\"Goals\" , data=df, color=\"blue\" )"
   ]
  },
  {
   "cell_type": "code",
   "execution_count": null,
   "id": "1e593b51-d1c4-47c9-8be9-1ab41a2500b7",
   "metadata": {},
   "outputs": [],
   "source": [
    "#BOXPLOT 2ND PLOT\n",
    "\n",
    "sns.boxplot(x='Position', y='Shots on target',  data=df.head(120))"
   ]
  },
  {
   "cell_type": "code",
   "execution_count": null,
   "id": "4ef9e9c0-8bc9-4155-82a8-076209a69fe5",
   "metadata": {},
   "outputs": [],
   "source": [
    "#VIOLIN PLOT 1ST PLOT\n",
    "\n",
    "plt.figure(figsize=(12,5))\n",
    "sns.violinplot(x=\"Club\", y=\"Goals\", color = \"green\" ,data=df.head(115) )"
   ]
  },
  {
   "cell_type": "code",
   "execution_count": null,
   "id": "9cd54a55-4849-406c-91f6-e5085f40a996",
   "metadata": {},
   "outputs": [],
   "source": [
    "#VIOLIN PLOT CONTINUES\n",
    "plt.figure(figsize=(12,5))\n",
    "sns.violinplot(x='Club', y='Losses',  color='red', data=df.head(115))"
   ]
  },
  {
   "cell_type": "code",
   "execution_count": null,
   "id": "17b0b8c2-daf3-474b-a36c-c19d9dc1b0c9",
   "metadata": {},
   "outputs": [],
   "source": [
    "#SWARMPLOT \n",
    "sns.set_style(\"darkgrid\")\n",
    "plt.figure(figsize=(12,5))\n",
    "sns.swarmplot(x='Club', y='Wins', data=df.head(115), color='blue')"
   ]
  },
  {
   "cell_type": "code",
   "execution_count": null,
   "id": "2242d8b5-211a-4954-bc2f-2a66c02eb662",
   "metadata": {},
   "outputs": [],
   "source": [
    "#SWARMPLOT 2ND CHART\n",
    "\n",
    "sns.set_style('darkgrid')\n",
    "plt.figure(figsize=(12,5))\n",
    "sns.swarmplot(x= 'Position', y='Headed goals', data=df.head(115), color='red')"
   ]
  },
  {
   "cell_type": "code",
   "execution_count": null,
   "id": "6687b8f7-d831-467b-a1c4-2ea1a57a8a52",
   "metadata": {},
   "outputs": [],
   "source": [
    "#PAIRPLOT\n",
    "\n",
    "sns.set_style('darkgrid')\n",
    "plt.figure(figsize=(12,5))\n",
    "sns.pairplot(df, hue='Club')"
   ]
  },
  {
   "cell_type": "code",
   "execution_count": null,
   "id": "52a19f1c-a24f-4616-be06-f2739e29b625",
   "metadata": {},
   "outputs": [],
   "source": [
    "# JOINTPLOT\n",
    "\n",
    "sns.set_style('darkgrid')\n",
    "sns.jointplot(x='Wins', y='Losses', data=df, kind= 'scatter')"
   ]
  },
  {
   "cell_type": "code",
   "execution_count": null,
   "id": "1a35fb84-f4d0-485e-99eb-99d7b7cc5846",
   "metadata": {},
   "outputs": [],
   "source": [
    "#JOINTPLOT 2ND GRAPH\n",
    "\n",
    "sns.set_style('darkgrid')\n",
    "sns.jointplot(x='Appearances', y='Wins', data=df, kind= 'scatter')"
   ]
  },
  {
   "cell_type": "code",
   "execution_count": null,
   "id": "716f8a8e-ad26-4004-859f-4b7aa9b45565",
   "metadata": {},
   "outputs": [],
   "source": []
  }
 ],
 "metadata": {
  "kernelspec": {
   "display_name": "Python 3 (ipykernel)",
   "language": "python",
   "name": "python3"
  },
  "language_info": {
   "codemirror_mode": {
    "name": "ipython",
    "version": 3
   },
   "file_extension": ".py",
   "mimetype": "text/x-python",
   "name": "python",
   "nbconvert_exporter": "python",
   "pygments_lexer": "ipython3",
   "version": "3.11.9"
  }
 },
 "nbformat": 4,
 "nbformat_minor": 5
}
